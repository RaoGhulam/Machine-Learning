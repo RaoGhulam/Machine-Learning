{
 "cells": [
  {
   "cell_type": "code",
   "execution_count": 1,
   "id": "5ea9c61f",
   "metadata": {},
   "outputs": [],
   "source": [
    "import numpy as np\n",
    "import pandas as pd"
   ]
  },
  {
   "cell_type": "code",
   "execution_count": 7,
   "id": "296e9ccc",
   "metadata": {},
   "outputs": [
    {
     "data": {
      "text/html": [
       "<div>\n",
       "<style scoped>\n",
       "    .dataframe tbody tr th:only-of-type {\n",
       "        vertical-align: middle;\n",
       "    }\n",
       "\n",
       "    .dataframe tbody tr th {\n",
       "        vertical-align: top;\n",
       "    }\n",
       "\n",
       "    .dataframe thead th {\n",
       "        text-align: right;\n",
       "    }\n",
       "</style>\n",
       "<table border=\"1\" class=\"dataframe\">\n",
       "  <thead>\n",
       "    <tr style=\"text-align: right;\">\n",
       "      <th></th>\n",
       "      <th>AGE</th>\n",
       "      <th>JOB_STATUS</th>\n",
       "      <th>OWNS_HOUSE</th>\n",
       "      <th>CREDIT_RATING</th>\n",
       "      <th>CLASS</th>\n",
       "    </tr>\n",
       "  </thead>\n",
       "  <tbody>\n",
       "    <tr>\n",
       "      <th>0</th>\n",
       "      <td>Young</td>\n",
       "      <td>False</td>\n",
       "      <td>False</td>\n",
       "      <td>Fair</td>\n",
       "      <td>No</td>\n",
       "    </tr>\n",
       "    <tr>\n",
       "      <th>1</th>\n",
       "      <td>Young</td>\n",
       "      <td>False</td>\n",
       "      <td>False</td>\n",
       "      <td>Good</td>\n",
       "      <td>No</td>\n",
       "    </tr>\n",
       "    <tr>\n",
       "      <th>2</th>\n",
       "      <td>Young</td>\n",
       "      <td>True</td>\n",
       "      <td>False</td>\n",
       "      <td>Good</td>\n",
       "      <td>Yes</td>\n",
       "    </tr>\n",
       "    <tr>\n",
       "      <th>3</th>\n",
       "      <td>Young</td>\n",
       "      <td>True</td>\n",
       "      <td>True</td>\n",
       "      <td>Fair</td>\n",
       "      <td>Yes</td>\n",
       "    </tr>\n",
       "    <tr>\n",
       "      <th>4</th>\n",
       "      <td>Young</td>\n",
       "      <td>False</td>\n",
       "      <td>False</td>\n",
       "      <td>Fair</td>\n",
       "      <td>No</td>\n",
       "    </tr>\n",
       "  </tbody>\n",
       "</table>\n",
       "</div>"
      ],
      "text/plain": [
       "     AGE  JOB_STATUS  OWNS_HOUSE CREDIT_RATING CLASS\n",
       "0  Young       False       False          Fair    No\n",
       "1  Young       False       False          Good    No\n",
       "2  Young        True       False          Good   Yes\n",
       "3  Young        True        True          Fair   Yes\n",
       "4  Young       False       False          Fair    No"
      ]
     },
     "execution_count": 7,
     "metadata": {},
     "output_type": "execute_result"
    }
   ],
   "source": [
    "data = {\n",
    "    \"AGE\": [\"Young\",\"Young\",\"Young\",\"Young\",\"Young\",\n",
    "            \"Middle\",\"Middle\",\"Middle\",\"Middle\",\"Middle\",\n",
    "            \"Old\",\"Old\",\"Old\",\"Old\",\"Old\"],\n",
    "    \"JOB_STATUS\": [False,False,True,True,False,\n",
    "                   False,False,True,False,False,\n",
    "                   False,False,True,True,False],\n",
    "    \"OWNS_HOUSE\": [False,False,False,True,False,\n",
    "                   False,False,True,True,True,\n",
    "                   True,True,False,False,False],\n",
    "    \"CREDIT_RATING\": [\"Fair\",\"Good\",\"Good\",\"Fair\",\"Fair\",\n",
    "                      \"Fair\",\"Good\",\"Good\",\"Excellent\",\"Excellent\",\n",
    "                      \"Excellent\",\"Good\",\"Good\",\"Excellent\",\"Fair\"],\n",
    "    \"CLASS\": [\"No\",\"No\",\"Yes\",\"Yes\",\"No\",\n",
    "              \"No\",\"No\",\"Yes\",\"Yes\",\"Yes\",\n",
    "              \"Yes\",\"Yes\",\"Yes\",\"Yes\",\"No\"]\n",
    "}\n",
    "df = pd.DataFrame(data)\n",
    "df.head(5)"
   ]
  },
  {
   "cell_type": "code",
   "execution_count": 8,
   "id": "22895bc0",
   "metadata": {},
   "outputs": [],
   "source": [
    "def entropy(target_col):\n",
    "    elements, counts = np.unique(target_col, return_counts=True)\n",
    "    probs = counts / counts.sum()\n",
    "    return -np.sum(probs * np.log2(probs))"
   ]
  },
  {
   "cell_type": "code",
   "execution_count": 9,
   "id": "4548433e",
   "metadata": {},
   "outputs": [],
   "source": [
    "def info_gain(data, split_attribute, target_name=\"CLASS\"):\n",
    "    total_entropy = entropy(data[target_name])\n",
    "    \n",
    "    # Values and counts for split attribute\n",
    "    vals, counts = np.unique(data[split_attribute], return_counts=True)\n",
    "    \n",
    "    # Weighted entropy after the split\n",
    "    weighted_entropy = np.sum([\n",
    "        (counts[i] / np.sum(counts)) * entropy(data[data[split_attribute] == vals[i]][target_name])\n",
    "        for i in range(len(vals))\n",
    "    ])\n",
    "    \n",
    "    # Information gain\n",
    "    return total_entropy - weighted_entropy"
   ]
  },
  {
   "cell_type": "code",
   "execution_count": 10,
   "id": "7147f811",
   "metadata": {},
   "outputs": [],
   "source": [
    "# Calculate IG for all attributes\n",
    "attributes = [\"AGE\", \"JOB_STATUS\", \"OWNS_HOUSE\", \"CREDIT_RATING\"]\n",
    "ig_values = {attr: info_gain(df, attr) for attr in attributes}"
   ]
  },
  {
   "cell_type": "code",
   "execution_count": 11,
   "id": "de85ad2a",
   "metadata": {},
   "outputs": [],
   "source": [
    "# Find the attribute with highest IG\n",
    "root_node = max(ig_values, key=ig_values.get)"
   ]
  },
  {
   "cell_type": "code",
   "execution_count": 12,
   "id": "96552a3c",
   "metadata": {},
   "outputs": [
    {
     "name": "stdout",
     "output_type": "stream",
     "text": [
      "Information Gain for each attribute:\n",
      "AGE: 0.0830\n",
      "JOB_STATUS: 0.3237\n",
      "OWNS_HOUSE: 0.4200\n",
      "CREDIT_RATING: 0.3630\n",
      "\n",
      "Root node of the decision tree should be: OWNS_HOUSE\n"
     ]
    }
   ],
   "source": [
    "print(\"Information Gain for each attribute:\")\n",
    "for attr, ig in ig_values.items():\n",
    "    print(f\"{attr}: {ig:.4f}\")\n",
    "\n",
    "print(f\"\\nRoot node of the decision tree should be: {root_node}\")"
   ]
  }
 ],
 "metadata": {
  "kernelspec": {
   "display_name": "Python 3",
   "language": "python",
   "name": "python3"
  },
  "language_info": {
   "codemirror_mode": {
    "name": "ipython",
    "version": 3
   },
   "file_extension": ".py",
   "mimetype": "text/x-python",
   "name": "python",
   "nbconvert_exporter": "python",
   "pygments_lexer": "ipython3",
   "version": "3.11.3"
  }
 },
 "nbformat": 4,
 "nbformat_minor": 5
}
