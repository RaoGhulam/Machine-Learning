{
 "cells": [
  {
   "cell_type": "code",
   "execution_count": 1,
   "id": "e6cf6528",
   "metadata": {},
   "outputs": [],
   "source": [
    "import pandas as pd \n",
    "from sklearn.tree import DecisionTreeClassifier, plot_tree\n",
    "import matplotlib.pyplot as plt\n",
    "from sklearn.metrics import accuracy_score\n",
    "from sklearn.model_selection import train_test_split\n",
    "from sklearn.preprocessing import LabelEncoder"
   ]
  },
  {
   "cell_type": "code",
   "execution_count": 2,
   "id": "fb1b68fe",
   "metadata": {},
   "outputs": [],
   "source": [
    "data = {\n",
    "    \"Student\": [1,2,3,4,5,6,7,8,9,10],\n",
    "    \"Prior Experience\": [\"Yes\",\"No\",\"Yes\",\"No\",\"Yes\",\"No\",\"Yes\",\"Yes\",\"Yes\",\"Yes\"],\n",
    "    \"Course\": [\"Programming\",\"Programming\",\"History\",\"Programming\",\"English\",\n",
    "               \"Programming\",\"Programming\",\"Mathematics\",\"Programming\",\"Programming\"],\n",
    "    \"Time\": [\"Day\",\"Day\",\"Night\",\"Night\",\"Day\",\"Day\",\"Day\",\"Night\",\"Night\",\"Night\"],\n",
    "    \"Liked\": [\"Yes\",\"No\",\"No\",\"Yes\",\"Yes\",\"No\",\"No\",\"Yes\",\"Yes\",\"No\"]\n",
    "}\n",
    "\n",
    "df = pd.DataFrame(data)"
   ]
  },
  {
   "cell_type": "code",
   "execution_count": 3,
   "id": "d0a9b2d0",
   "metadata": {},
   "outputs": [],
   "source": [
    "def gini_impurity(groups, classes):\n",
    "    total_samples = sum([len(group) for group in groups])\n",
    "    gini = 0.0\n",
    "    for group in groups:\n",
    "        size = len(group)\n",
    "        if size == 0:\n",
    "            continue\n",
    "        score = 0.0\n",
    "        for class_val in classes:\n",
    "            p = list(group[\"Liked\"]).count(class_val) / size\n",
    "            score += p * p\n",
    "        gini += (1 - score) * (size / total_samples)\n",
    "    return gini"
   ]
  },
  {
   "cell_type": "code",
   "execution_count": 5,
   "id": "affb41ae",
   "metadata": {},
   "outputs": [],
   "source": [
    "# Get possible splits for a categorical column\n",
    "def get_splits(df, column):\n",
    "    return df[column].unique()"
   ]
  },
  {
   "cell_type": "code",
   "execution_count": 6,
   "id": "86c88158",
   "metadata": {},
   "outputs": [],
   "source": [
    "#  Evaluate each split and find the best\n",
    "def best_split(df):\n",
    "    classes = df[\"Liked\"].unique()\n",
    "    best_gini = 1.0\n",
    "    best_column = None\n",
    "    best_value = None\n",
    "    \n",
    "    for column in df.columns:\n",
    "        if column == \"Liked\" or column == \"Student\":\n",
    "            continue\n",
    "        for value in get_splits(df, column):\n",
    "            left = df[df[column] == value]\n",
    "            right = df[df[column] != value]\n",
    "            gini = gini_impurity([left, right], classes)\n",
    "            # Check if this is the best split\n",
    "            if gini < best_gini:\n",
    "                best_gini = gini\n",
    "                best_column = column\n",
    "                best_value = value\n",
    "                \n",
    "    return best_column, best_value, best_gini"
   ]
  },
  {
   "cell_type": "code",
   "execution_count": 7,
   "id": "fada6350",
   "metadata": {},
   "outputs": [
    {
     "name": "stdout",
     "output_type": "stream",
     "text": [
      "Root Node Column: Course\n",
      "Split Value: History\n",
      "Gini Impurity of this split: 0.444\n"
     ]
    }
   ],
   "source": [
    "root_column, root_value, root_gini = best_split(df)\n",
    "print(f\"Root Node Column: {root_column}\")\n",
    "print(f\"Split Value: {root_value}\")\n",
    "print(f\"Gini Impurity of this split: {root_gini:.3f}\")"
   ]
  },
  {
   "cell_type": "code",
   "execution_count": null,
   "id": "b6c460d2",
   "metadata": {},
   "outputs": [],
   "source": []
  }
 ],
 "metadata": {
  "kernelspec": {
   "display_name": "Python 3",
   "language": "python",
   "name": "python3"
  },
  "language_info": {
   "codemirror_mode": {
    "name": "ipython",
    "version": 3
   },
   "file_extension": ".py",
   "mimetype": "text/x-python",
   "name": "python",
   "nbconvert_exporter": "python",
   "pygments_lexer": "ipython3",
   "version": "3.11.3"
  }
 },
 "nbformat": 4,
 "nbformat_minor": 5
}
