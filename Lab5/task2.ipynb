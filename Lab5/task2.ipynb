{
 "cells": [
  {
   "cell_type": "code",
   "execution_count": 13,
   "id": "a60c83f9",
   "metadata": {},
   "outputs": [],
   "source": [
    "import pandas as pd\n",
    "from sklearn.model_selection import train_test_split\n",
    "from sklearn.preprocessing import StandardScaler\n",
    "from sklearn.tree import DecisionTreeClassifier\n",
    "from sklearn.neighbors import KNeighborsClassifier\n",
    "from sklearn.ensemble import RandomForestClassifier\n",
    "from xgboost import XGBClassifier\n",
    "from sklearn.ensemble import VotingClassifier\n",
    "from sklearn.metrics import accuracy_score\n",
    "import matplotlib.pyplot as plt\n"
   ]
  },
  {
   "cell_type": "code",
   "execution_count": 6,
   "id": "6b834f99",
   "metadata": {},
   "outputs": [],
   "source": [
    "df = pd.read_csv('E:\\Practice\\ML Practice\\ML lab\\Lab5\\heart.csv')\n",
    "X = df[['restecg', 'oldpeak']]\n",
    "y = df['target']\n",
    "\n",
    "X_train, X_test, y_train, y_test = train_test_split(X, y, test_size=0.2, random_state=42)\n",
    "\n",
    "scaler = StandardScaler()\n",
    "X_train_scaled = scaler.fit_transform(X_train)\n",
    "X_test_scaled = scaler.transform(X_test)"
   ]
  },
  {
   "cell_type": "code",
   "execution_count": 7,
   "id": "bbb50443",
   "metadata": {},
   "outputs": [],
   "source": [
    "dt = DecisionTreeClassifier(random_state=42)\n",
    "knn = KNeighborsClassifier()\n",
    "rf = RandomForestClassifier(random_state=42)\n",
    "xgb = XGBClassifier(eval_metric='mlogloss', random_state=42)"
   ]
  },
  {
   "cell_type": "code",
   "execution_count": 9,
   "id": "2fe42fcb",
   "metadata": {},
   "outputs": [
    {
     "name": "stdout",
     "output_type": "stream",
     "text": [
      "Hard Voting Accuracy: 0.6878048780487804\n"
     ]
    }
   ],
   "source": [
    "voting_hard = VotingClassifier(\n",
    "    estimators=[('dt', dt), ('rf',rf), ('xgb', xgb)],\n",
    "    voting='hard'\n",
    ")\n",
    "\n",
    "voting_hard.fit(X_train_scaled, y_train)\n",
    "y_pred_hard = voting_hard.predict(X_test_scaled)\n",
    "print(\"Hard Voting Accuracy:\", accuracy_score(y_test, y_pred_hard))"
   ]
  },
  {
   "cell_type": "code",
   "execution_count": 10,
   "id": "5309bb2a",
   "metadata": {},
   "outputs": [
    {
     "name": "stdout",
     "output_type": "stream",
     "text": [
      "Soft Voting Accuracy: 0.6878048780487804\n"
     ]
    }
   ],
   "source": [
    "voting_soft = VotingClassifier(\n",
    "    estimators=[('dt', dt), ('knn', knn), ('rf', rf), ('xgb', xgb)],\n",
    "    voting='soft'\n",
    ")\n",
    "voting_soft.fit(X_train_scaled, y_train)\n",
    "y_pred_soft = voting_soft.predict(X_test_scaled)\n",
    "print(\"Soft Voting Accuracy:\", accuracy_score(y_test, y_pred_soft))"
   ]
  },
  {
   "cell_type": "code",
   "execution_count": 11,
   "id": "8a18dae6",
   "metadata": {},
   "outputs": [
    {
     "name": "stdout",
     "output_type": "stream",
     "text": [
      "Best Weights: (1, 1, 1, 1), Best Accuracy: 0.6878048780487804\n"
     ]
    }
   ],
   "source": [
    "from itertools import product\n",
    "best_weights = None\n",
    "best_acc = 0\n",
    "\n",
    "for weight in product([1, 2, 3], repeat=4):\n",
    "    weighted = VotingClassifier(\n",
    "        estimators=[(\"dt\", dt), (\"knn\", knn), (\"rf\", rf), (\"xgb\", xgb)],\n",
    "        voting=\"soft\",\n",
    "        weights=weight\n",
    "    )\n",
    "    weighted.fit(X_train, y_train)\n",
    "    soft_acc = accuracy_score(y_test, weighted.predict(X_test))\n",
    "\n",
    "    if soft_acc > best_acc:\n",
    "        best_acc = soft_acc\n",
    "        best_weight = weight\n",
    "\n",
    "print(f\"Best Weights: {best_weight}, Best Accuracy: {best_acc}\")"
   ]
  }
 ],
 "metadata": {
  "kernelspec": {
   "display_name": "Python 3",
   "language": "python",
   "name": "python3"
  },
  "language_info": {
   "codemirror_mode": {
    "name": "ipython",
    "version": 3
   },
   "file_extension": ".py",
   "mimetype": "text/x-python",
   "name": "python",
   "nbconvert_exporter": "python",
   "pygments_lexer": "ipython3",
   "version": "3.11.3"
  }
 },
 "nbformat": 4,
 "nbformat_minor": 5
}
